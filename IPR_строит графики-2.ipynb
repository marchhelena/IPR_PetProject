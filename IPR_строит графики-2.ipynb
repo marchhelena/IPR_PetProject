{
 "cells": [
  {
   "cell_type": "code",
   "execution_count": 4,
   "id": "4b578cd4",
   "metadata": {},
   "outputs": [
    {
     "data": {
      "image/png": "[encoded data removed]",
      "text/plain": [
       "<Figure size 432x288 with 1 Axes>"
      ]
     },
     "metadata": {
      "needs_background": "light"
     },
     "output_type": "display_data"
    }
   ],
   "source": [
    "import matplotlib.pyplot as plt\n",
    "import numpy as np\n",
    "import pandas as pd\n",
    "from sklearn.linear_model import LinearRegression as lin_reg\n",
    "from sklearn.preprocessing import PolynomialFeatures\n",
    "\n",
    "# загружаем данные\n",
    "df = pd.read_csv ('/Users/marchhelena/Desktop/Python/IPR_point.txt', sep='\\t')\n",
    "\n",
    "# меняем названия колонок\n",
    "col_names=['well', 'dates', 'BHP', 'oil_rate', 'water_rate','gas_rate', 'mas_oil_rate','mas_gas_rate','PI_oil', 'PI_water','PI_gas']\n",
    "df.columns = col_names\n",
    "\n",
    "#преобразуем тип данных\n",
    "df.iloc[:, 2:10] = df.iloc[:, 2:10].astype(float)\n",
    "\n",
    "# удаляем выбросы\n",
    "df = df[df['oil_rate']>=0.9]\n",
    "\n",
    "# итерируемся по уникальным названиям скважин\n",
    "wells = df['well'].unique()\n",
    "for well in wells[0:]:      # менять тут)\n",
    "    \n",
    "    df_temp = df[df['well']==well]\n",
    "    \n",
    "    X = df_temp['BHP'].values.reshape(-1,1)\n",
    "    y = df_temp['oil_rate'].values.reshape(-1,1)\n",
    "    model = lin_reg()\n",
    "    model.fit(X, y)\n",
    "    \n",
    "    poly_reg = PolynomialFeatures(degree=2)\n",
    "    X_poly = poly_reg.fit_transform(X)\n",
    "    lin_reg2 = lin_reg()\n",
    "    lin_reg2.fit(X_poly,y)\n",
    "\n",
    "    X_grid = np.arange(min(X),max(X),0.1)\n",
    "    X_grid = X_grid.reshape(len(X_grid),1) \n",
    "    plt.scatter(X,y, color='red')\n",
    "    \n",
    "\n",
    "    plt.plot(X_grid, lin_reg2.predict(poly_reg.fit_transform(X_grid)),color='blue') \n",
    "\n",
    "    plt.title(\"Polynomial OP1\", )\n",
    "    plt.xlabel('BHP')\n",
    "    plt.ylabel('oil_rate')\n",
    "    plt.show()\n",
    "    break"
   ]
  },
  {
   "cell_type": "code",
   "execution_count": null,
   "id": "4a2e4013",
   "metadata": {},
   "outputs": [],
   "source": []
  },
  {
   "cell_type": "code",
   "execution_count": null,
   "id": "f37794e7",
   "metadata": {},
   "outputs": [],
   "source": []
  }
 ],
 "metadata": {
  "kernelspec": {
   "display_name": "Python 3",
   "language": "python",
   "name": "python3"
  },
  "language_info": {
   "codemirror_mode": {
    "name": "ipython",
    "version": 3
   },
   "file_extension": ".py",
   "mimetype": "text/x-python",
   "name": "python",
   "nbconvert_exporter": "python",
   "pygments_lexer": "ipython3",
   "version": "3.8.8"
  }
 },
 "nbformat": 4,
 "nbformat_minor": 5
}
