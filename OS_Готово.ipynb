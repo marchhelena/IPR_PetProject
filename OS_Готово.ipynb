{
 "cells": [
  {
   "cell_type": "code",
   "execution_count": null,
   "id": "1085d72e",
   "metadata": {},
   "outputs": [],
   "source": [
    "import numpy as np\n",
    "import pandas as pd\n",
    "from win32com.client import Dispatch\n",
    "import time\n",
    "Server = Dispatch(\"PX32.OpenServer.1\")\n",
    "#Server.DoCommand('GAP.START()')\n",
    "path = r'C:\\\\1 Work\\\\Новая папка\\\\OpSer_1.txt'\n",
    "\n",
    "df = pd.read_csv(path, sep = '\\t')\n",
    "well = df['Well'].values.tolist()\n",
    "date = df['Dates'].values.tolist()\n",
    "res_pres = df['Res_pres'].values.tolist()\n",
    "wct = df['WCT'].values.tolist()\n",
    "gor = df['GOR'].values.tolist()\n",
    "pi = df['PI'].values.tolist()\n",
    "\n",
    "\n",
    "def dates_predict (date):\n",
    "\n",
    "    year=date[6:]\n",
    "    month=date[3:5]\n",
    "    month_step=str(int(month)+1)\n",
    "    day=date[:2]\n",
    "    if month=='12':\n",
    "        month_step='01'\n",
    "        year=str(int(year)+1)\n",
    "    date_ready=str(day)+'.'+str(month)+'.'+str(int(year)+1)\n",
    "    return date_ready\n",
    "\n",
    "\n",
    "def Start_pred(Server, date):\n",
    "    Server.DoCommand('GAP.PREDINIT()')\n",
    "    #Server.DoCommand('GAP.PredDoSolver(0,0,0,{PROD}')\n",
    "    Server.DoCommand('GAP.PredDoStep()')\n",
    "    Server.DoCommand('GAP.PREDEND()')\n",
    "\n",
    "for i in range(len(well)):\n",
    "    well[i]=str(well[i])\n",
    "    Server.SetValue('GAP.MOD[{PROD}].WELL[{%s}].IPR[0].WCT' %(str(well[i])), str(wct[i]))\n",
    "    Server.SetValue('GAP.MOD[{PROD}].WELL[{%s}].IPR[0].ResPres' %(well[i]), str(res_pres[i]))\n",
    "    Server.SetValue('GAP.MOD[{PROD}].WELL[{%s}].IPR[0].GOR' %(well[i]), str(gor[i]))\n",
    "    Server.SetValue('GAP.MOD[{PROD}].WELL[{%s}].IPR[0].PI' % (well[i]), str(pi[i]))\n",
    "\n",
    "    Server.SetValue('GAP.MOD[{PROD}].PREDINFO.START', '{'+str(date[0])+'}')\n",
    "    Server.SetValue('GAP.MOD[{PROD}].PREDINFO.END', '{'+dates_predict(str(date[0]))+'}')\n",
    "    Server.SetValue('GAP.MOD[{PROD}].PREDINFO.STEPTYPE', 'months')\n",
    "    Server.SetValue('GAP.MOD[{PROD}].PREDINFO.STEP', '1')\n",
    "\n",
    "t1 = time.time()\n",
    "Start_pred(Server, date[i])\n",
    "t2 = time.time()\n",
    "\n",
    "print(t2-t1)\n",
    "\n",
    "Server = None\n"
   ]
  }
 ],
 "metadata": {
  "kernelspec": {
   "display_name": "Python 3",
   "language": "python",
   "name": "python3"
  },
  "language_info": {
   "codemirror_mode": {
    "name": "ipython",
    "version": 3
   },
   "file_extension": ".py",
   "mimetype": "text/x-python",
   "name": "python",
   "nbconvert_exporter": "python",
   "pygments_lexer": "ipython3",
   "version": "3.8.8"
  }
 },
 "nbformat": 4,
 "nbformat_minor": 5
}
