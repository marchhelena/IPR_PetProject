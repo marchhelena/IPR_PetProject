{
 "cells": [
  {
   "cell_type": "code",
   "execution_count": 1,
   "id": "93276cb0",
   "metadata": {
    "ExecuteTime": {
     "end_time": "2021-12-14T22:09:17.752101Z",
     "start_time": "2021-12-14T22:09:17.098818Z"
    },
    "code_folding": [
     7,
     24,
     65,
     85
    ]
   },
   "outputs": [
    {
     "ename": "SyntaxError",
     "evalue": "'break' outside loop (<ipython-input-1-8dfa24927af9>, line 82)",
     "output_type": "error",
     "traceback": [
      "\u001b[0;36m  File \u001b[0;32m\"<ipython-input-1-8dfa24927af9>\"\u001b[0;36m, line \u001b[0;32m82\u001b[0m\n\u001b[0;31m    break\u001b[0m\n\u001b[0m    ^\u001b[0m\n\u001b[0;31mSyntaxError\u001b[0m\u001b[0;31m:\u001b[0m 'break' outside loop\n"
     ]
    }
   ],
   "source": [
    "import matplotlib.pyplot as plt\n",
    "import numpy as np\n",
    "import pandas as pd\n",
    "from sklearn.linear_model import LinearRegression as lin_reg\n",
    "from sklearn.preprocessing import PolynomialFeatures\n",
    "\n",
    "\n",
    "def get_data(filename):\n",
    "    # загружаем данные\n",
    "    df = pd.read_csv (filename, sep=\"\\t\",)\n",
    "\n",
    "    # меняем названия колонок\n",
    "    col_names=['well', 'dates', 'BHP', 'oil_rate', 'water_rate','gas_rate', 'mas_oil_rate','mas_gas_rate','PI_oil', 'PI_water','PI_gas']\n",
    "    df.columns = col_names\n",
    "\n",
    "    #преобразуем тип данных\n",
    "    df.iloc[:, 2:10] = df.iloc[:, 2:10].astype(float)\n",
    "\n",
    "    # удаляем выбросы\n",
    "    df = df[df['oil_rate']>=0.9]\n",
    "    \n",
    "    return df\n",
    "    \n",
    "# полиномиальная регрессия\n",
    "def get_reg_coeffs(df_temp, word):\n",
    "    X = df_temp[word].values\n",
    "    y = df_temp['BHP'].values\n",
    "     \n",
    "    coefs = np.polyfit(X, y, 2)\n",
    "    \n",
    "#     model = lin_reg()\n",
    "#     model.fit(X, y)\n",
    "\n",
    "#     k = model.coef_[0][0]\n",
    "#     b = model.intercept_[0]\n",
    "\n",
    "    return coefs\n",
    "\n",
    "    poly_reg = PolynomialFeatures(degree=2)\n",
    "    X_poly = poly_reg.fit_transform(X)\n",
    " \n",
    "    X_poly     \n",
    "\n",
    "    lin_reg2 = LinearRegression()\n",
    "    lin_reg2.fit(X_poly,y)\n",
    "    \n",
    "    \n",
    "    # Построение полинома\n",
    "    from sklearn.preprocessing import PolynomialFeatures\n",
    "    poly_reg = PolynomialFeatures(degree=4)\n",
    "    X_poly = poly_reg.fit_transform(X)\n",
    "    lin_reg2 = LinearRegression()\n",
    "    lin_reg2.fit(X_poly,y)\n",
    " \n",
    "    X_grid = np.arange(min(X),max(X),0.1)\n",
    "    X_grid = X_grid.reshape(len(X_grid),1) \n",
    "    plt.scatter(X,y, color='red') \n",
    " \n",
    "    plt.plot(X_grid, lin_reg2.predict(poly_reg.fit_transform(X_grid)),color='blue') \n",
    " \n",
    "    plt.title(\"Truth or Bluff(Polynomial)\")\n",
    "    plt.xlabel('Position level')\n",
    "    plt.ylabel('Salary')\n",
    "    plt.show()\n",
    "    \n",
    "def plotting(X, y, well, a_oil ,b_oil,c_oil):\n",
    "    fig = plt.figure()\n",
    "    plt.plot(X, y, label='data')\n",
    "    plt.title(f'well:{well} \\n a_oil:{a_oil:.2f},  b_oil:{b_oil:.2f}, c_oil:{c_oil:.2f}')\n",
    "    \n",
    "    plt.xlabel('oil_rate', size=12)\n",
    "    plt.ylabel('BHP', rotation=0, size=12)\n",
    "    plt.grid()\n",
    "    plt.show(fig)\n",
    "    \n",
    "    plt.plot(X_grid, lin_reg2.predict(poly_reg.fit_transform(X_grid)),color='blue') \n",
    "\n",
    "    plt.title(\"Polynomial\")\n",
    "    plt.xlabel('BHP')\n",
    "    plt.ylabel('oil_rate')\n",
    "    plt.show()\n",
    "    #break\n",
    "\n",
    "# итерируемся по уникальным названиям скважин\n",
    "\n",
    "def get_new_PI(df_temp, word):\n",
    "    PI = df_temp[word].values.reshape(-1,1)\n",
    "    PI=sum(PI)/len(PI)\n",
    "    \n",
    "    return PI\n",
    "\n",
    "def get_ipr_data(path, path_save):\n",
    "    \n",
    "    df = get_data(path)\n",
    "    result = pd.DataFrame(columns=['well','a_oil','b_oil','c_oil','a_wat','b_wat','c_wat','a_gas','b_gas','c_gas','PI_oil','PI_wat','PI_gas'])\n",
    "    wells = df['well'].unique()\n",
    "    for well in wells:\n",
    "    \n",
    "        df_temp = df[df['well']==well]\n",
    "        a_oil, b_oil, c_oil = get_reg_coeffs(df_temp, 'oil_rate')\n",
    "        a_wat, b_wat, c_wat = get_reg_coeffs(df_temp, 'water_rate')\n",
    "        a_gas, b_gas, c_gas = get_reg_coeffs(df_temp, 'gas_rate')\n",
    "        PI_oil=get_new_PI(df_temp,'PI_oil')\n",
    "        PI_wat=get_new_PI(df_temp,'PI_water')\n",
    "        PI_gas = get_new_PI(df_temp,'PI_gas')\n",
    "    \n",
    "        result = result.append({'well': well, 'a_oil':a_oil, 'b_oil':a_oil, 'c_oil':a_oil, 'a_wat':a_wat, 'b_wat':b_wat, 'c_wat':c_wat,\n",
    "                            'a_gas':a_gas, 'b_gas':b_gas, 'c_gas':c_gas, 'PI_oil':float(PI_oil), 'PI_wat':float(PI_wat), \n",
    "                            'PI_gas':float(PI_gas)}, ignore_index=True)\n",
    "\n",
    "    \n",
    "    result.to_csv(path_save, sep = '\\t', index = False)\n",
    "    \n",
    "    return result\n",
    "\n",
    "\n",
    "\n",
    "path      = r'/Users/marchhelena/Desktop/Python/IPR_point.txt'\n",
    "path_save = r'/Users/marchhelena/Desktop/Python/Result.txt'\n",
    "result = get_ipr_data(path, path_save)\n",
    "display(result)\n"
   ]
  },
  {
   "cell_type": "code",
   "execution_count": null,
   "id": "7e431f1d",
   "metadata": {},
   "outputs": [],
   "source": []
  }
 ],
 "metadata": {
  "kernelspec": {
   "display_name": "Python 3",
   "language": "python",
   "name": "python3"
  },
  "language_info": {
   "codemirror_mode": {
    "name": "ipython",
    "version": 3
   },
   "file_extension": ".py",
   "mimetype": "text/x-python",
   "name": "python",
   "nbconvert_exporter": "python",
   "pygments_lexer": "ipython3",
   "version": "3.8.8"
  },
  "toc": {
   "base_numbering": 1,
   "nav_menu": {},
   "number_sections": true,
   "sideBar": true,
   "skip_h1_title": false,
   "title_cell": "Table of Contents",
   "title_sidebar": "Contents",
   "toc_cell": false,
   "toc_position": {},
   "toc_section_display": true,
   "toc_window_display": false
  },
  "varInspector": {
   "cols": {
    "lenName": 16,
    "lenType": 16,
    "lenVar": 40
   },
   "kernels_config": {
    "python": {
     "delete_cmd_postfix": "",
     "delete_cmd_prefix": "del ",
     "library": "var_list.py",
     "varRefreshCmd": "print(var_dic_list())"
    },
    "r": {
     "delete_cmd_postfix": ") ",
     "delete_cmd_prefix": "rm(",
     "library": "var_list.r",
     "varRefreshCmd": "cat(var_dic_list()) "
    }
   },
   "types_to_exclude": [
    "module",
    "function",
    "builtin_function_or_method",
    "instance",
    "_Feature"
   ],
   "window_display": false
  }
 },
 "nbformat": 4,
 "nbformat_minor": 5
}
